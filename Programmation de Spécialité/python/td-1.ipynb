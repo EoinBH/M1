{
 "cells": [
  {
   "cell_type": "code",
   "execution_count": null,
   "id": "e05960dc",
   "metadata": {},
   "outputs": [],
   "source": [
    "#Partie 1.1\n",
    "import json as js\n",
    "\n",
    "with open('data/evg_esp_veg.envpdiprboucle.json', 'r') as f:\n",
    "  d_json = js.load(f)"
   ]
  },
  {
   "cell_type": "code",
   "execution_count": null,
   "id": "0d618c7d",
   "metadata": {},
   "outputs": [],
   "source": [
    "#Partie 1.2\n",
    "type(d_json)\n",
    "d_json.items()\n",
    "d_json.keys()\n",
    "d_json.values()"
   ]
  },
  {
   "cell_type": "code",
   "execution_count": null,
   "id": "9a4cfa1e",
   "metadata": {},
   "outputs": [],
   "source": [
    "#Partie 1.3\n",
    "var = d_json['fields']\n",
    "print(var)\n",
    "rando = d_json['values']\n",
    "print(rando)"
   ]
  },
  {
   "cell_type": "code",
   "execution_count": null,
   "id": "f4f1f183",
   "metadata": {},
   "outputs": [],
   "source": [
    "#Partie 1.4\n",
    "print(len(rando))\n",
    "print(rando[11]['nom'])"
   ]
  },
  {
   "cell_type": "code",
   "execution_count": null,
   "id": "4da2b1ef",
   "metadata": {},
   "outputs": [],
   "source": [
    "#Partie 2.1\n",
    "import pandas as pd\n",
    "\n",
    "df = pd.DataFrame.from_dict(rando)\n",
    "df\n",
    "df.shape"
   ]
  },
  {
   "cell_type": "code",
   "execution_count": null,
   "id": "4795af77",
   "metadata": {},
   "outputs": [],
   "source": [
    "#Partie 2.2\n",
    "df.head(10)\n",
    "df.tail()\n",
    "df.columns\n"
   ]
  },
  {
   "cell_type": "code",
   "execution_count": null,
   "id": "2cd4890d",
   "metadata": {},
   "outputs": [
    {
     "data": {
      "text/html": [
       "<div>\n",
       "<style scoped>\n",
       "    .dataframe tbody tr th:only-of-type {\n",
       "        vertical-align: middle;\n",
       "    }\n",
       "\n",
       "    .dataframe tbody tr th {\n",
       "        vertical-align: top;\n",
       "    }\n",
       "\n",
       "    .dataframe thead th {\n",
       "        text-align: right;\n",
       "    }\n",
       "</style>\n",
       "<table border=\"1\" class=\"dataframe\">\n",
       "  <thead>\n",
       "    <tr style=\"text-align: right;\">\n",
       "      <th></th>\n",
       "      <th>ydepart</th>\n",
       "      <th>nom</th>\n",
       "      <th>descriptif</th>\n",
       "      <th>depart</th>\n",
       "      <th>cheminement_retour</th>\n",
       "      <th>difficulte</th>\n",
       "      <th>cheminement_aller</th>\n",
       "      <th>longueur</th>\n",
       "      <th>temps_parcours</th>\n",
       "      <th>commune_depart</th>\n",
       "      <th>code_insee</th>\n",
       "      <th>denivele</th>\n",
       "      <th>gid</th>\n",
       "      <th>vocation</th>\n",
       "      <th>identifiant</th>\n",
       "      <th>xdepart</th>\n",
       "      <th>observation</th>\n",
       "    </tr>\n",
       "  </thead>\n",
       "  <tbody>\n",
       "    <tr>\n",
       "      <th>21</th>\n",
       "      <td>45.794488</td>\n",
       "      <td>Tour de Champagne</td>\n",
       "      <td>Cette promenade vous faits parcourir les diffé...</td>\n",
       "      <td>Liberté</td>\n",
       "      <td>None</td>\n",
       "      <td>facile</td>\n",
       "      <td>Liberté &gt; Mairie &gt; Côte Chaly &gt; La Creuse  Com...</td>\n",
       "      <td>4,8 km</td>\n",
       "      <td>90 min</td>\n",
       "      <td>Champagne-au-Mont-d'Or</td>\n",
       "      <td>69040</td>\n",
       "      <td>59 m</td>\n",
       "      <td>20</td>\n",
       "      <td>None</td>\n",
       "      <td>611</td>\n",
       "      <td>4.792174</td>\n",
       "      <td>None</td>\n",
       "    </tr>\n",
       "  </tbody>\n",
       "</table>\n",
       "</div>"
      ],
      "text/plain": [
       "      ydepart                nom  \\\n",
       "21  45.794488  Tour de Champagne   \n",
       "\n",
       "                                           descriptif   depart  \\\n",
       "21  Cette promenade vous faits parcourir les diffé...  Liberté   \n",
       "\n",
       "   cheminement_retour difficulte  \\\n",
       "21               None     facile   \n",
       "\n",
       "                                    cheminement_aller longueur temps_parcours  \\\n",
       "21  Liberté > Mairie > Côte Chaly > La Creuse  Com...   4,8 km         90 min   \n",
       "\n",
       "            commune_depart code_insee denivele  gid vocation  identifiant  \\\n",
       "21  Champagne-au-Mont-d'Or      69040     59 m   20     None          611   \n",
       "\n",
       "     xdepart observation  \n",
       "21  4.792174        None  "
      ]
     },
     "execution_count": 69,
     "metadata": {},
     "output_type": "execute_result"
    }
   ],
   "source": [
    "#Partie 2.3\n",
    "df.iloc[:, 1:4]\n",
    "df.loc[df.difficulte == 'facile', :]\n",
    "df.loc[df.nom == \"Tour de Champagne\", \"depart\"] = \"Liberté\"\n",
    "df.loc[df.nom == \"Tour de Champagne\", :]"
   ]
  },
  {
   "cell_type": "code",
   "execution_count": null,
   "id": "65b4459d",
   "metadata": {},
   "outputs": [
    {
     "data": {
      "text/plain": [
       "difficulte\n",
       "moyen        26\n",
       "facile       24\n",
       "difficile    10\n",
       "Name: count, dtype: int64"
      ]
     },
     "execution_count": 71,
     "metadata": {},
     "output_type": "execute_result"
    }
   ],
   "source": [
    "#Partie 2.4\n",
    "df['difficulte']\n",
    "df['difficulte'].value_counts()"
   ]
  },
  {
   "cell_type": "code",
   "execution_count": 83,
   "id": "352fc1dd",
   "metadata": {},
   "outputs": [
    {
     "data": {
      "text/plain": [
       "temps_parcours\n",
       "90     13\n",
       "150     7\n",
       "60      6\n",
       "45      5\n",
       "180     4\n",
       "120     4\n",
       "75      4\n",
       "140     2\n",
       "170     2\n",
       "105     2\n",
       "165     2\n",
       "185     1\n",
       "175     1\n",
       "160     1\n",
       "240     1\n",
       "145     1\n",
       "95      1\n",
       "155     1\n",
       "20      1\n",
       "135     1\n",
       "30      1\n",
       "Name: count, dtype: int64"
      ]
     },
     "execution_count": 83,
     "metadata": {},
     "output_type": "execute_result"
    }
   ],
   "source": [
    "#Partie 2.5\n",
    "def remove_min(temps):\n",
    "    return temps.replace(' min', '')\n",
    "df['temps_parcours'] = df['temps_parcours'].apply(remove_min)\n",
    "df['temps_parcours'].value_counts()"
   ]
  },
  {
   "cell_type": "code",
   "execution_count": null,
   "id": "867ebecd",
   "metadata": {},
   "outputs": [],
   "source": [
    "#Partie 2.6"
   ]
  },
  {
   "cell_type": "markdown",
   "id": "3fc210c7",
   "metadata": {},
   "source": []
  }
 ],
 "metadata": {
  "kernelspec": {
   "display_name": "Python 3",
   "language": "python",
   "name": "python3"
  },
  "language_info": {
   "codemirror_mode": {
    "name": "ipython",
    "version": 3
   },
   "file_extension": ".py",
   "mimetype": "text/x-python",
   "name": "python",
   "nbconvert_exporter": "python",
   "pygments_lexer": "ipython3",
   "version": "3.10.0"
  }
 },
 "nbformat": 4,
 "nbformat_minor": 5
}
