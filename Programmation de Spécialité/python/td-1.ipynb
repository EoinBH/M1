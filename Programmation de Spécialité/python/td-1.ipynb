{
 "cells": [
  {
   "cell_type": "code",
   "execution_count": null,
   "id": "e05960dc",
   "metadata": {},
   "outputs": [],
   "source": [
    "#Partie 1.1\n",
    "import json as js\n",
    "\n",
    "with open('data/evg_esp_veg.envpdiprboucle.json', 'r') as f:\n",
    "  d_json = js.load(f)"
   ]
  },
  {
   "cell_type": "code",
   "execution_count": null,
   "id": "0d618c7d",
   "metadata": {},
   "outputs": [],
   "source": [
    "#Partie 1.2\n",
    "type(d_json)\n",
    "d_json.items()\n",
    "d_json.keys()\n",
    "d_json.values()"
   ]
  },
  {
   "cell_type": "code",
   "execution_count": null,
   "id": "9a4cfa1e",
   "metadata": {},
   "outputs": [],
   "source": [
    "#Partie 1.3\n",
    "var = d_json['fields']\n",
    "print(var)\n",
    "rando = d_json['values']\n",
    "print(rando)"
   ]
  },
  {
   "cell_type": "code",
   "execution_count": null,
   "id": "f4f1f183",
   "metadata": {},
   "outputs": [],
   "source": [
    "#Partie 1.4\n",
    "print(len(rando))\n",
    "print(rando[11]['nom'])"
   ]
  },
  {
   "cell_type": "code",
   "execution_count": null,
   "id": "4da2b1ef",
   "metadata": {},
   "outputs": [],
   "source": [
    "#Partie 2.1\n",
    "import pandas as pd\n",
    "\n",
    "df = pd.DataFrame.from_dict(rando)\n",
    "df\n",
    "df.shape"
   ]
  },
  {
   "cell_type": "code",
   "execution_count": null,
   "id": "4795af77",
   "metadata": {},
   "outputs": [],
   "source": [
    "#Partie 2.2\n",
    "#df.head(10)\n",
    "#df.columns\n",
    "df.tail()\n"
   ]
  },
  {
   "cell_type": "code",
   "execution_count": null,
   "id": "2cd4890d",
   "metadata": {},
   "outputs": [],
   "source": [
    "#df.iloc[:, 1:4]\n",
    "df.loc[df.difficulte=='facile', :]"
   ]
  },
  {
   "cell_type": "code",
   "execution_count": null,
   "id": "65b4459d",
   "metadata": {},
   "outputs": [],
   "source": [
    "df['difficulte']"
   ]
  },
  {
   "cell_type": "markdown",
   "id": "3fc210c7",
   "metadata": {},
   "source": []
  }
 ],
 "metadata": {
  "kernelspec": {
   "display_name": "Python 3",
   "language": "python",
   "name": "python3"
  },
  "language_info": {
   "codemirror_mode": {
    "name": "ipython",
    "version": 3
   },
   "file_extension": ".py",
   "mimetype": "text/x-python",
   "name": "python",
   "nbconvert_exporter": "python",
   "pygments_lexer": "ipython3",
   "version": "3.10.0"
  }
 },
 "nbformat": 4,
 "nbformat_minor": 5
}
